{
 "cells": [
  {
   "cell_type": "code",
   "execution_count": null,
   "id": "d67dad03-9d76-4891-82ff-7e19d1369a24",
   "metadata": {},
   "outputs": [],
   "source": [
    "import torch\n",
    "import numpy as np\n",
    "from matplotlib.colors import LinearSegmentedColormap\n",
    "import matplotlib.pyplot as plt\n",
    "%matplotlib inline"
   ]
  },
  {
   "cell_type": "markdown",
   "id": "cfffced1",
   "metadata": {},
   "source": [
    "We assume all data generation/training is complete. If not done yet, please run on the terminal:\n",
    "```\n",
    "lasdi burgers1d.yml\n",
    "```"
   ]
  },
  {
   "cell_type": "code",
   "execution_count": null,
   "id": "b4966aa0",
   "metadata": {},
   "outputs": [],
   "source": [
    "from lasdi.latent_space import Autoencoder, initial_condition_latent\n",
    "from lasdi.postprocess import compute_errors\n",
    "\n",
    "filename = 'lasdi_09_18_2024_20_51.npy'"
   ]
  },
  {
   "cell_type": "markdown",
   "id": "e1dfd2b6",
   "metadata": {},
   "source": [
    "Initialize physics solver, according to the config file `burgers1d.yml`"
   ]
  },
  {
   "cell_type": "code",
   "execution_count": null,
   "id": "68f93c32",
   "metadata": {},
   "outputs": [],
   "source": [
    "import yaml\n",
    "from lasdi.workflow import initialize_trainer\n",
    "from lasdi.param import ParameterSpace\n",
    "\n",
    "cfg_file = 'burgers1d.yml'\n",
    "with open(cfg_file, 'r') as f:\n",
    "    config = yaml.safe_load(f)\n",
    "\n",
    "restart_file = np.load(filename, allow_pickle=True).item()\n",
    "\n",
    "trainer, param_space, physics, autoencoder, sindy = initialize_trainer(config, restart_file)"
   ]
  },
  {
   "cell_type": "code",
   "execution_count": null,
   "id": "ef6a1685",
   "metadata": {},
   "outputs": [],
   "source": [
    "from lasdi.gp import fit_gps\n",
    "\n",
    "autoencoder_param = restart_file['latent_space']['autoencoder_param']\n",
    "\n",
    "X_train = restart_file['trainer']['X_train']\n",
    "\n",
    "paramspace_dict = restart_file['parameters']\n",
    "param_train = paramspace_dict['train_space']\n",
    "param_grid = paramspace_dict['test_space']\n",
    "test_meshgrid = paramspace_dict['test_meshgrid']\n",
    "test_grid_sizes = paramspace_dict['test_grid_sizes']\n",
    "\n",
    "n_init = paramspace_dict['n_init']\n",
    "n_samples = 20\n",
    "n_a_grid, n_w_grid = test_grid_sizes\n",
    "a_grid, w_grid = test_meshgrid\n",
    "\n",
    "physics_dict = restart_file['physics']\n",
    "t_grid = physics_dict['t_grid']\n",
    "x_grid = physics_dict['x_grid']\n",
    "t_mesh, x_mesh = np.meshgrid(t_grid, x_grid)\n",
    "Dt = physics_dict['dt']\n",
    "Dx = physics_dict['dx']\n",
    "\n",
    "# total_time = bglasdi_results['total_time']\n",
    "# start_train_phase = bglasdi_results['start_train_phase']\n",
    "# start_fom_phase = bglasdi_results['start_fom_phase']\n",
    "# end_train_phase = bglasdi_results['end_train_phase']\n",
    "# end_fom_phase = bglasdi_results['end_fom_phase']\n",
    "\n",
    "data_test = np.load('data/data_test.npy', allow_pickle = True).item()\n",
    "X_test = data_test['X_test']\n",
    "\n",
    "time_dim, space_dim = t_grid.shape[0], x_grid.shape[0]\n",
    "\n",
    "n_hidden = len(autoencoder_param.keys()) // 4 - 1\n",
    "hidden_units = [autoencoder_param['fc' + str(i + 1) + '_e.weight'].shape[0] for i in range(n_hidden)]\n",
    "n_z = autoencoder_param['fc' + str(n_hidden + 1) + '_e.weight'].shape[0]\n",
    "\n",
    "autoencoder.load_state_dict(autoencoder_param)\n",
    "coefs = restart_file['trainer']['best_coefs']\n",
    "gp_dictionnary = fit_gps(param_space.train_space, coefs)\n",
    "\n",
    "n_coef = sindy.ncoefs\n",
    "\n",
    "from lasdi.gplasdi import sample_roms, average_rom\n",
    "Zis_samples = sample_roms(autoencoder, physics, sindy, gp_dictionnary, param_grid, n_samples)\n",
    "Zis_mean = average_rom(autoencoder, physics, sindy, gp_dictionnary, param_grid)\n",
    "\n",
    "print(Zis_mean.shape)\n",
    "print(Zis_samples.shape)\n",
    "\n",
    "X_pred_mean = autoencoder.decoder(torch.Tensor(Zis_mean)).detach().numpy()\n",
    "X_pred_samples = autoencoder.decoder(torch.Tensor(Zis_samples)).detach().numpy()\n",
    "\n",
    "avg_rel_error = np.zeros(param_grid.shape[0])\n",
    "for k in range(param_grid.shape[0]):\n",
    "    avg_rel_error[k], _ = compute_errors(X_pred_mean[k], physics, X_test[k].numpy())\n",
    "\n",
    "max_std = np.zeros(param_grid.shape[0])\n",
    "for k in range(param_grid.shape[0]):\n",
    "    max_std[k] = X_pred_samples[k].std(0).max()\n",
    "\n",
    "avg_rel_error = avg_rel_error.reshape([n_w_grid, n_a_grid]).T\n",
    "max_std = max_std.reshape([n_w_grid, n_a_grid]).T\n",
    "\n",
    "print(avg_rel_error.shape)\n",
    "print(max_std.shape)\n",
    "\n",
    "from lasdi.gp import eval_gp\n",
    "gp_pred_mean, gp_pred_std = eval_gp(gp_dictionnary, param_grid)"
   ]
  },
  {
   "cell_type": "markdown",
   "id": "389cdfb3",
   "metadata": {},
   "source": [
    "Plot mean and standard deviation of coefficient matrix.\n",
    "For SINDy of dimension 5, the coefficient matrix has a shape of (6, 5)."
   ]
  },
  {
   "cell_type": "code",
   "execution_count": null,
   "id": "1e33b2af",
   "metadata": {},
   "outputs": [],
   "source": [
    "from lasdi.postprocess import plot_gp2d\n",
    "\n",
    "plot_gp2d(a_grid, w_grid, gp_pred_mean.reshape([n_a_grid, n_w_grid, -1]), gp_pred_std.reshape([n_a_grid, n_w_grid, -1]),\n",
    "          param_train, param_labels=['a', 'w'], plot_shape=[6, 5])"
   ]
  },
  {
   "cell_type": "code",
   "execution_count": null,
   "id": "a6073807",
   "metadata": {},
   "outputs": [],
   "source": [
    "from lasdi.postprocess import heatmap2d\n",
    "\n",
    "heatmap2d(avg_rel_error * 100, a_grid[:, 0], w_grid[0], param_train, 4, param_labels=['a', 'w'], title='GPLaSDI')"
   ]
  },
  {
   "cell_type": "code",
   "execution_count": null,
   "id": "97720b74",
   "metadata": {},
   "outputs": [],
   "source": [
    "heatmap2d(max_std * 100, a_grid[:, 0], w_grid[0], param_train, 4, param_labels=['a', 'w'], title=r'max$_{(t,x)}\\sqrt{V[\\tilde{u}_{\\xi^*}]}$   ($\\times10^{-2}$)')"
   ]
  },
  {
   "cell_type": "code",
   "execution_count": null,
   "id": "d79c7cc2",
   "metadata": {},
   "outputs": [],
   "source": [
    "from lasdi.postprocess import plot_prediction\n",
    "\n",
    "a, w = 0.9, 1.07\n",
    "param = np.array([[a, w]])\n",
    "true = physics.solve(param[0])\n",
    "true = true.detach().numpy().reshape([physics.grid_size[0], physics.nt]).T\n",
    "scale = 1\n",
    "\n",
    "Z = sample_roms(autoencoder, physics, sindy, gp_dictionnary, param, n_samples)\n",
    "\n",
    "Z_mean = Z[0].mean(0)\n",
    "Z_std = Z[0].std(0)\n",
    "\n",
    "pred = autoencoder.decoder(torch.Tensor(Z)).detach().numpy()\n",
    "pred_std = pred[0].std(0)\n",
    "\n",
    "plot_prediction(param, autoencoder, physics, sindy, gp_dictionnary, n_samples, true, scale)"
   ]
  },
  {
   "cell_type": "code",
   "execution_count": null,
   "id": "11c629e4",
   "metadata": {},
   "outputs": [],
   "source": []
  }
 ],
 "metadata": {
  "kernelspec": {
   "display_name": ".venv_gpu",
   "language": "python",
   "name": "python3"
  },
  "language_info": {
   "codemirror_mode": {
    "name": "ipython",
    "version": 3
   },
   "file_extension": ".py",
   "mimetype": "text/x-python",
   "name": "python",
   "nbconvert_exporter": "python",
   "pygments_lexer": "ipython3",
   "version": "3.12.3"
  }
 },
 "nbformat": 4,
 "nbformat_minor": 5
}
