{
 "cells": [
  {
   "cell_type": "code",
   "execution_count": null,
   "id": "d67dad03-9d76-4891-82ff-7e19d1369a24",
   "metadata": {},
   "outputs": [],
   "source": [
    "import torch\n",
    "import numpy as np\n",
    "from matplotlib.colors import LinearSegmentedColormap\n",
    "import matplotlib.pyplot as plt\n",
    "%matplotlib inline"
   ]
  },
  {
   "cell_type": "markdown",
   "id": "493f4313",
   "metadata": {},
   "source": [
    "# Overall workflow and training\n",
    "\n",
    "Data generation/training can be performed by built-in executable `lasdi`. For this example of Burgers 1D equation, you can simply run on command-line terminal:\n",
    "```\n",
    "lasdi burgers1d.yml\n",
    "```\n",
    "\n",
    "The workflow can be also manually constructed for those who prefer python scripts and for prototyping. Following code snippets show the high-level view of the workflow in the executable `lasdi`."
   ]
  },
  {
   "cell_type": "code",
   "execution_count": null,
   "id": "1ead8f2d",
   "metadata": {},
   "outputs": [],
   "source": [
    "import yaml\n",
    "from lasdi.workflow import initialize_trainer, run_samples, pick_samples\n",
    "\n",
    "cfg_file = 'burgers1d.yml'\n",
    "with open(cfg_file, 'r') as f:\n",
    "    config = yaml.safe_load(f)\n",
    "\n",
    "trainer, param_space, physics, autoencoder, sindy = initialize_trainer(config)\n",
    "\n",
    "# generate initial training/test data\n",
    "pick_samples(trainer, config)\n",
    "run_samples(trainer, config)\n",
    "# initial training given training data\n",
    "trainer.train()\n",
    "\n",
    "while (trainer.restart_iter < trainer.max_iter):\n",
    "    if (trainer.restart_iter <= trainer.max_greedy_iter):\n",
    "        # perform greedy sampling to pick up new samples\n",
    "        pick_samples(trainer, config)\n",
    "        # update training data with newly picked samples\n",
    "        run_samples(trainer, config)\n",
    "\n",
    "    # train over given training data\n",
    "    trainer.train()"
   ]
  },
  {
   "cell_type": "markdown",
   "id": "cfffced1",
   "metadata": {},
   "source": [
    "If you ran the command instead, a restart file is saved at the end of the training, which can be loaded for post-processing:"
   ]
  },
  {
   "cell_type": "code",
   "execution_count": null,
   "id": "b4966aa0",
   "metadata": {},
   "outputs": [],
   "source": [
    "# Specify the restart file you have.\n",
    "filename = 'restarts/burgers1d.restart.npy'\n",
    "\n",
    "import yaml\n",
    "from lasdi.workflow import initialize_trainer\n",
    "from lasdi.param import ParameterSpace\n",
    "\n",
    "cfg_file = 'burgers1d.yml'\n",
    "with open(cfg_file, 'r') as f:\n",
    "    config = yaml.safe_load(f)\n",
    "\n",
    "restart_file = np.load(filename, allow_pickle=True).item()\n",
    "\n",
    "trainer, param_space, physics, autoencoder, sindy = initialize_trainer(config, restart_file)"
   ]
  },
  {
   "cell_type": "markdown",
   "id": "42758da9",
   "metadata": {},
   "source": [
    "# Post-processing"
   ]
  },
  {
   "cell_type": "markdown",
   "id": "0cf48489",
   "metadata": {},
   "source": [
    "Load data for post-processing:"
   ]
  },
  {
   "cell_type": "code",
   "execution_count": null,
   "id": "dcdac0c2",
   "metadata": {},
   "outputs": [],
   "source": [
    "coefs = trainer.best_coefs\n",
    "X_train = trainer.X_train\n",
    "X_test = trainer.X_test\n",
    "\n",
    "param_train = param_space.train_space\n",
    "param_grid = param_space.test_space\n",
    "test_meshgrid = param_space.test_meshgrid\n",
    "test_grid_sizes = param_space.test_grid_sizes\n",
    "n_init = param_space.n_init\n",
    "\n",
    "n_a_grid, n_w_grid = test_grid_sizes\n",
    "a_grid, w_grid = test_meshgrid\n",
    "\n",
    "t_grid = physics.t_grid\n",
    "x_grid = physics.x_grid\n",
    "t_mesh, x_mesh = np.meshgrid(t_grid, x_grid)\n",
    "Dt, Dx = physics.dt, physics.dx\n",
    "\n",
    "time_dim, space_dim = t_grid.shape[0], x_grid.shape[0]\n",
    "\n",
    "n_coef = sindy.ncoefs"
   ]
  },
  {
   "cell_type": "markdown",
   "id": "c2b6e720",
   "metadata": {},
   "source": [
    "They can be also loaded directly from restart file:"
   ]
  },
  {
   "cell_type": "code",
   "execution_count": null,
   "id": "e796b0bc",
   "metadata": {},
   "outputs": [],
   "source": [
    "coefs = restart_file['trainer']['best_coefs']\n",
    "X_train = restart_file['trainer']['X_train']\n",
    "X_test = restart_file['trainer']['X_test']\n",
    "\n",
    "paramspace_dict = restart_file['parameters']\n",
    "param_train = paramspace_dict['train_space']\n",
    "param_grid = paramspace_dict['test_space']\n",
    "test_meshgrid = paramspace_dict['test_meshgrid']\n",
    "test_grid_sizes = paramspace_dict['test_grid_sizes']\n",
    "n_init = paramspace_dict['n_init']\n",
    "\n",
    "n_a_grid, n_w_grid = test_grid_sizes\n",
    "a_grid, w_grid = test_meshgrid\n",
    "\n",
    "physics_dict = restart_file['physics']\n",
    "t_grid = physics_dict['t_grid']\n",
    "x_grid = physics_dict['x_grid']\n",
    "t_mesh, x_mesh = np.meshgrid(t_grid, x_grid)\n",
    "Dt = physics_dict['dt']\n",
    "Dx = physics_dict['dx']\n",
    "\n",
    "time_dim, space_dim = t_grid.shape[0], x_grid.shape[0]\n",
    "n_coef = restart_file['latent_dynamics']['ncoefs']"
   ]
  },
  {
   "cell_type": "markdown",
   "id": "03a96b35",
   "metadata": {},
   "source": [
    "# Loss history"
   ]
  },
  {
   "cell_type": "code",
   "execution_count": null,
   "id": "e0163864",
   "metadata": {},
   "outputs": [],
   "source": [
    "plt.figure(1)\n",
    "plt.loglog(trainer.training_loss)\n",
    "plt.loglog(trainer.ae_loss)\n",
    "plt.loglog(trainer.ld_loss)\n",
    "plt.loglog(trainer.coef_loss)"
   ]
  },
  {
   "cell_type": "markdown",
   "id": "1262a0c3",
   "metadata": {},
   "source": [
    "## Gaussian-process uncertainty evaluation\n",
    "We evaluated the uncertainties of latent dynamics coefficients over 2d parameter space, with samples from GP prediction:"
   ]
  },
  {
   "cell_type": "code",
   "execution_count": null,
   "id": "ef6a1685",
   "metadata": {},
   "outputs": [],
   "source": [
    "from lasdi.gp import fit_gps\n",
    "from lasdi.gplasdi import sample_roms, average_rom\n",
    "from lasdi.postprocess import compute_errors\n",
    "from lasdi.gp import eval_gp\n",
    "\n",
    "n_samples = 20\n",
    "autoencoder.cpu()\n",
    "\n",
    "gp_dictionnary = fit_gps(param_space.train_space, coefs)\n",
    "\n",
    "Zis_samples = sample_roms(autoencoder, physics, sindy, gp_dictionnary, param_grid, n_samples)\n",
    "Zis_mean = average_rom(autoencoder, physics, sindy, gp_dictionnary, param_grid)\n",
    "\n",
    "X_pred_mean = autoencoder.decoder(torch.Tensor(Zis_mean)).detach().numpy()\n",
    "X_pred_samples = autoencoder.decoder(torch.Tensor(Zis_samples)).detach().numpy()\n",
    "\n",
    "avg_rel_error = np.zeros(param_grid.shape[0])\n",
    "for k in range(param_grid.shape[0]):\n",
    "    avg_rel_error[k], _ = compute_errors(X_pred_mean[k], physics, X_test[k].numpy())\n",
    "\n",
    "max_std = np.zeros(param_grid.shape[0])\n",
    "for k in range(param_grid.shape[0]):\n",
    "    max_std[k] = X_pred_samples[k].std(0).max()\n",
    "\n",
    "avg_rel_error = avg_rel_error.reshape([n_w_grid, n_a_grid]).T\n",
    "max_std = max_std.reshape([n_w_grid, n_a_grid]).T\n",
    "\n",
    "gp_pred_mean, gp_pred_std = eval_gp(gp_dictionnary, param_grid)"
   ]
  },
  {
   "cell_type": "markdown",
   "id": "2f31c964",
   "metadata": {},
   "source": [
    "# Visualization"
   ]
  },
  {
   "cell_type": "markdown",
   "id": "389cdfb3",
   "metadata": {},
   "source": [
    "Plot mean and standard deviation of coefficient matrix.\n",
    "For SINDy of dimension 5, the coefficient matrix has a shape of (6, 5)."
   ]
  },
  {
   "cell_type": "code",
   "execution_count": null,
   "id": "1e33b2af",
   "metadata": {},
   "outputs": [],
   "source": [
    "from lasdi.postprocess import plot_gp2d\n",
    "\n",
    "plot_gp2d(a_grid, w_grid, gp_pred_mean.reshape([n_a_grid, n_w_grid, -1]), gp_pred_std.reshape([n_a_grid, n_w_grid, -1]),\n",
    "          param_train, param_labels=['a', 'w'], plot_shape=[6, 5])"
   ]
  },
  {
   "cell_type": "code",
   "execution_count": null,
   "id": "a6073807",
   "metadata": {},
   "outputs": [],
   "source": [
    "from lasdi.postprocess import heatmap2d\n",
    "\n",
    "heatmap2d(avg_rel_error * 100, a_grid[:, 0], w_grid[0], param_train, 4, param_labels=['a', 'w'], title='GPLaSDI')"
   ]
  },
  {
   "cell_type": "code",
   "execution_count": null,
   "id": "97720b74",
   "metadata": {},
   "outputs": [],
   "source": [
    "heatmap2d(max_std * 100, a_grid[:, 0], w_grid[0], param_train, 4, param_labels=['a', 'w'], title=r'max$_{(t,x)}\\sqrt{V[\\tilde{u}_{\\xi^*}]}$   ($\\times10^{-2}$)')"
   ]
  },
  {
   "cell_type": "code",
   "execution_count": null,
   "id": "d79c7cc2",
   "metadata": {},
   "outputs": [],
   "source": [
    "from lasdi.postprocess import plot_prediction\n",
    "\n",
    "a, w = 0.9, 1.07\n",
    "param = np.array([[a, w]])\n",
    "true = physics.solve(param[0])\n",
    "true = true.detach().numpy().reshape([physics.grid_size[0], physics.nt]).T\n",
    "scale = 1\n",
    "\n",
    "Z = sample_roms(autoencoder, physics, sindy, gp_dictionnary, param, n_samples)\n",
    "\n",
    "Z_mean = Z[0].mean(0)\n",
    "Z_std = Z[0].std(0)\n",
    "\n",
    "pred = autoencoder.decoder(torch.Tensor(Z)).detach().numpy()\n",
    "pred_std = pred[0].std(0)\n",
    "\n",
    "plot_prediction(param, autoencoder, physics, sindy, gp_dictionnary, n_samples, true, scale)"
   ]
  },
  {
   "cell_type": "code",
   "execution_count": null,
   "id": "ba098b6d",
   "metadata": {},
   "outputs": [],
   "source": []
  }
 ],
 "metadata": {
  "kernelspec": {
   "display_name": ".venv_gpu",
   "language": "python",
   "name": "python3"
  },
  "language_info": {
   "codemirror_mode": {
    "name": "ipython",
    "version": 3
   },
   "file_extension": ".py",
   "mimetype": "text/x-python",
   "name": "python",
   "nbconvert_exporter": "python",
   "pygments_lexer": "ipython3",
   "version": "3.12.3"
  }
 },
 "nbformat": 4,
 "nbformat_minor": 5
}
